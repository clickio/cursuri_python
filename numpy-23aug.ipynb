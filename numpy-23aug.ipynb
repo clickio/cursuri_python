{
 "cells": [
  {
   "cell_type": "code",
   "execution_count": 36,
   "id": "eb184754-345a-43f3-9c3a-b77133752b44",
   "metadata": {},
   "outputs": [],
   "source": [
    "import numpy as np"
   ]
  },
  {
   "cell_type": "code",
   "execution_count": null,
   "id": "d9ac1267-cddd-4a2f-802d-f6f3a975d397",
   "metadata": {},
   "outputs": [],
   "source": [
    "import pandas as pd\n",
    "import matplotlib.pyplot as plt"
   ]
  },
  {
   "cell_type": "code",
   "execution_count": 6,
   "id": "f1fcc3bb-cd82-4dbe-b6e2-c75d417b96d0",
   "metadata": {},
   "outputs": [],
   "source": [
    "array_monodimensional = np.array([1,2,5,7,8])"
   ]
  },
  {
   "cell_type": "code",
   "execution_count": 7,
   "id": "944f3e68-9ebf-486e-b3fb-f9f31daadb01",
   "metadata": {},
   "outputs": [
    {
     "data": {
      "text/plain": [
       "array([1, 2, 5, 7, 8])"
      ]
     },
     "execution_count": 7,
     "metadata": {},
     "output_type": "execute_result"
    }
   ],
   "source": [
    "array_monodimensional"
   ]
  },
  {
   "cell_type": "code",
   "execution_count": 8,
   "id": "2d4d16a0-2dfc-48c7-a1ba-cb04ab6f8aa8",
   "metadata": {},
   "outputs": [
    {
     "data": {
      "text/plain": [
       "numpy.ndarray"
      ]
     },
     "execution_count": 8,
     "metadata": {},
     "output_type": "execute_result"
    }
   ],
   "source": [
    "type(array_monodimensional)"
   ]
  },
  {
   "cell_type": "code",
   "execution_count": 9,
   "id": "42e71f0b-f403-4daf-aeeb-ab0dda5089ea",
   "metadata": {},
   "outputs": [],
   "source": [
    "array_bidimensional = np.array([[1,2,5,7,8], [3,4,5,9,0], [2,5,7,9,1]])"
   ]
  },
  {
   "cell_type": "code",
   "execution_count": 10,
   "id": "9f7ec075-efae-4ce4-bf8e-a4a3f4ce53bb",
   "metadata": {},
   "outputs": [
    {
     "data": {
      "text/plain": [
       "array([[1, 2, 5, 7, 8],\n",
       "       [3, 4, 5, 9, 0],\n",
       "       [2, 5, 7, 9, 1]])"
      ]
     },
     "execution_count": 10,
     "metadata": {},
     "output_type": "execute_result"
    }
   ],
   "source": [
    "array_bidimensional"
   ]
  },
  {
   "cell_type": "code",
   "execution_count": 11,
   "id": "48793a7f-3d7d-4815-b323-70d1455cc070",
   "metadata": {},
   "outputs": [
    {
     "data": {
      "text/plain": [
       "array([[ 2,  4, 10, 14, 16],\n",
       "       [ 6,  8, 10, 18,  0],\n",
       "       [ 4, 10, 14, 18,  2]])"
      ]
     },
     "execution_count": 11,
     "metadata": {},
     "output_type": "execute_result"
    }
   ],
   "source": [
    "matrice_suma = array_bidimensional + array_bidimensional\n",
    "matrice_suma"
   ]
  },
  {
   "cell_type": "code",
   "execution_count": 13,
   "id": "1d2342cf-e7fd-4e8c-a3ed-a9112b43fb5d",
   "metadata": {},
   "outputs": [
    {
     "data": {
      "text/plain": [
       "array([[ 1,  4, 25, 49, 64],\n",
       "       [ 9, 16, 25, 81,  0],\n",
       "       [ 4, 25, 49, 81,  1]])"
      ]
     },
     "execution_count": 13,
     "metadata": {},
     "output_type": "execute_result"
    }
   ],
   "source": [
    "matrice_inmultita = array_bidimensional * array_bidimensional\n",
    "matrice_inmultita"
   ]
  },
  {
   "cell_type": "code",
   "execution_count": 17,
   "id": "df3c7f66-00da-497f-99f0-80003c5bf2fb",
   "metadata": {},
   "outputs": [
    {
     "data": {
      "text/plain": [
       "array([[0.23188246, 0.67579982, 0.67094027, 0.00921058, 0.45792346],\n",
       "       [0.834183  , 0.59191188, 0.5955805 , 0.10451115, 0.39725814],\n",
       "       [0.84545438, 0.52984644, 0.07555806, 0.76230706, 0.26765604]])"
      ]
     },
     "execution_count": 17,
     "metadata": {},
     "output_type": "execute_result"
    }
   ],
   "source": [
    "matrice = np.random.random((3,5))\n",
    "matrice"
   ]
  },
  {
   "cell_type": "code",
   "execution_count": 25,
   "id": "8fa0f807-b71e-4258-848b-452b8108c103",
   "metadata": {},
   "outputs": [
    {
     "data": {
      "text/plain": [
       "array([[[[0.37454012, 0.95071431, 0.73199394, 0.59865848, 0.15601864],\n",
       "         [0.15599452, 0.05808361, 0.86617615, 0.60111501, 0.70807258],\n",
       "         [0.02058449, 0.96990985, 0.83244264, 0.21233911, 0.18182497]],\n",
       "\n",
       "        [[0.18340451, 0.30424224, 0.52475643, 0.43194502, 0.29122914],\n",
       "         [0.61185289, 0.13949386, 0.29214465, 0.36636184, 0.45606998],\n",
       "         [0.78517596, 0.19967378, 0.51423444, 0.59241457, 0.04645041]],\n",
       "\n",
       "        [[0.60754485, 0.17052412, 0.06505159, 0.94888554, 0.96563203],\n",
       "         [0.80839735, 0.30461377, 0.09767211, 0.68423303, 0.44015249],\n",
       "         [0.12203823, 0.49517691, 0.03438852, 0.9093204 , 0.25877998]]],\n",
       "\n",
       "\n",
       "       [[[0.66252228, 0.31171108, 0.52006802, 0.54671028, 0.18485446],\n",
       "         [0.96958463, 0.77513282, 0.93949894, 0.89482735, 0.59789998],\n",
       "         [0.92187424, 0.0884925 , 0.19598286, 0.04522729, 0.32533033]],\n",
       "\n",
       "        [[0.38867729, 0.27134903, 0.82873751, 0.35675333, 0.28093451],\n",
       "         [0.54269608, 0.14092422, 0.80219698, 0.07455064, 0.98688694],\n",
       "         [0.77224477, 0.19871568, 0.00552212, 0.81546143, 0.70685734]],\n",
       "\n",
       "        [[0.72900717, 0.77127035, 0.07404465, 0.35846573, 0.11586906],\n",
       "         [0.86310343, 0.62329813, 0.33089802, 0.06355835, 0.31098232],\n",
       "         [0.32518332, 0.72960618, 0.63755747, 0.88721274, 0.47221493]]],\n",
       "\n",
       "\n",
       "       [[[0.11959425, 0.71324479, 0.76078505, 0.5612772 , 0.77096718],\n",
       "         [0.4937956 , 0.52273283, 0.42754102, 0.02541913, 0.10789143],\n",
       "         [0.03142919, 0.63641041, 0.31435598, 0.50857069, 0.90756647]],\n",
       "\n",
       "        [[0.24929223, 0.41038292, 0.75555114, 0.22879817, 0.07697991],\n",
       "         [0.28975145, 0.16122129, 0.92969765, 0.80812038, 0.63340376],\n",
       "         [0.87146059, 0.80367208, 0.18657006, 0.892559  , 0.53934224]],\n",
       "\n",
       "        [[0.80744016, 0.8960913 , 0.31800347, 0.11005192, 0.22793516],\n",
       "         [0.42710779, 0.81801477, 0.86073058, 0.00695213, 0.5107473 ],\n",
       "         [0.417411  , 0.22210781, 0.11986537, 0.33761517, 0.9429097 ]]]])"
      ]
     },
     "execution_count": 25,
     "metadata": {},
     "output_type": "execute_result"
    }
   ],
   "source": [
    "np.random.seed(42)\n",
    "matrice_multidimensionala=np.random.random((3,3,3,5))\n",
    "matrice_multidimensionala"
   ]
  },
  {
   "cell_type": "code",
   "execution_count": 26,
   "id": "375704c7-808c-4b2b-8f08-7f05b46e4dbe",
   "metadata": {},
   "outputs": [
    {
     "data": {
      "text/plain": [
       "array([[[[0.32320293, 0.51879062, 0.70301896, 0.3636296 , 0.97178208],\n",
       "         [0.96244729, 0.2517823 , 0.49724851, 0.30087831, 0.28484049],\n",
       "         [0.03688695, 0.60956433, 0.50267902, 0.05147875, 0.27864646]],\n",
       "\n",
       "        [[0.90826589, 0.23956189, 0.14489487, 0.48945276, 0.98565045],\n",
       "         [0.24205527, 0.67213555, 0.76161962, 0.23763754, 0.72821635],\n",
       "         [0.36778313, 0.63230583, 0.63352971, 0.53577468, 0.09028977]],\n",
       "\n",
       "        [[0.8353025 , 0.32078006, 0.18651851, 0.04077514, 0.59089294],\n",
       "         [0.67756436, 0.01658783, 0.51209306, 0.22649578, 0.64517279],\n",
       "         [0.17436643, 0.69093774, 0.38673535, 0.93672999, 0.13752094]]],\n",
       "\n",
       "\n",
       "       [[[0.34106635, 0.11347352, 0.92469362, 0.87733935, 0.25794163],\n",
       "         [0.65998405, 0.8172222 , 0.55520081, 0.52965058, 0.24185229],\n",
       "         [0.09310277, 0.89721576, 0.90041806, 0.63310146, 0.33902979]],\n",
       "\n",
       "        [[0.34920957, 0.72595568, 0.89711026, 0.88708642, 0.77987555],\n",
       "         [0.64203165, 0.08413996, 0.16162871, 0.89855419, 0.60642906],\n",
       "         [0.00919705, 0.10147154, 0.66350177, 0.00506158, 0.16080805]],\n",
       "\n",
       "        [[0.54873379, 0.6918952 , 0.65196126, 0.22426931, 0.71217922],\n",
       "         [0.23724909, 0.3253997 , 0.74649141, 0.6496329 , 0.84922341],\n",
       "         [0.65761289, 0.5683086 , 0.09367477, 0.3677158 , 0.26520237]]],\n",
       "\n",
       "\n",
       "       [[[0.24398964, 0.97301055, 0.39309772, 0.89204656, 0.63113863],\n",
       "         [0.7948113 , 0.50263709, 0.57690388, 0.49251769, 0.19524299],\n",
       "         [0.72245212, 0.28077236, 0.02431597, 0.6454723 , 0.17711068]],\n",
       "\n",
       "        [[0.94045858, 0.95392858, 0.91486439, 0.3701587 , 0.01545662],\n",
       "         [0.92831856, 0.42818415, 0.96665482, 0.96361998, 0.85300946],\n",
       "         [0.29444889, 0.38509773, 0.85113667, 0.31692201, 0.16949275]],\n",
       "\n",
       "        [[0.55680126, 0.93615477, 0.6960298 , 0.57006117, 0.09717649],\n",
       "         [0.61500723, 0.99005385, 0.14008402, 0.51832965, 0.87737307],\n",
       "         [0.74076862, 0.69701574, 0.70248408, 0.35949115, 0.29359184]]]])"
      ]
     },
     "execution_count": 26,
     "metadata": {},
     "output_type": "execute_result"
    }
   ],
   "source": [
    "matrice_multidimensionala=np.random.random((3,3,3,5))\n",
    "matrice_multidimensionala"
   ]
  },
  {
   "cell_type": "code",
   "execution_count": 35,
   "id": "52a56c12-3ac6-426b-9a86-6b64a4f0e504",
   "metadata": {},
   "outputs": [
    {
     "data": {
      "text/plain": [
       "array([[[[0.67202614, 0.32815267, 0.15504162, 0.98184089, 0.8389335 ],\n",
       "         [0.86040462, 0.25025136, 0.03883473, 0.30326551, 0.53708243],\n",
       "         [0.32665124, 0.827869  , 0.27154292, 0.96525183, 0.45726516]],\n",
       "\n",
       "        [[0.84202308, 0.19438003, 0.41135391, 0.69951221, 0.13835309],\n",
       "         [0.13274542, 0.96953687, 0.7145951 , 0.04106752, 0.3988209 ],\n",
       "         [0.43352074, 0.74404264, 0.25086053, 0.18433367, 0.08087297]],\n",
       "\n",
       "        [[0.42831447, 0.6884999 , 0.0581936 , 0.91521373, 0.44235223],\n",
       "         [0.23978736, 0.09387329, 0.182866  , 0.934614  , 0.63827059],\n",
       "         [0.51669626, 0.65711133, 0.4356729 , 0.73003932, 0.04771613]]],\n",
       "\n",
       "\n",
       "       [[[0.56603721, 0.15864645, 0.12016465, 0.34187967, 0.09179907],\n",
       "         [0.09415699, 0.31141331, 0.97951053, 0.17533027, 0.0171611 ],\n",
       "         [0.76336442, 0.80691298, 0.34630432, 0.46467381, 0.64977368]],\n",
       "\n",
       "        [[0.04805892, 0.94914573, 0.88668039, 0.26089362, 0.01530454],\n",
       "         [0.93343631, 0.50103988, 0.53937745, 0.68396377, 0.61585116],\n",
       "         [0.9438916 , 0.9442516 , 0.86719893, 0.6364036 , 0.80094929]],\n",
       "\n",
       "        [[0.67716834, 0.57336704, 0.12850035, 0.81120418, 0.82063948],\n",
       "         [0.62593967, 0.82042684, 0.65148477, 0.20668436, 0.27396113],\n",
       "         [0.21458912, 0.37725908, 0.03896313, 0.61825388, 0.33655421]]],\n",
       "\n",
       "\n",
       "       [[[0.65572264, 0.38539662, 0.68161367, 0.34062457, 0.26069453],\n",
       "         [0.49603745, 0.69289036, 0.3483366 , 0.93664815, 0.03918633],\n",
       "         [0.41794603, 0.96758055, 0.54797188, 0.42347094, 0.56852028]],\n",
       "\n",
       "        [[0.57592458, 0.73164776, 0.12768973, 0.25001645, 0.58054401],\n",
       "         [0.86711661, 0.56186669, 0.23859686, 0.67984478, 0.73990876],\n",
       "         [0.23823615, 0.37772889, 0.53432747, 0.49656119, 0.38961809]],\n",
       "\n",
       "        [[0.29763517, 0.09998489, 0.0534853 , 0.9585415 , 0.84714314],\n",
       "         [0.35490519, 0.95680089, 0.6767699 , 0.48252095, 0.49302566],\n",
       "         [0.08328441, 0.09170415, 0.60244093, 0.55370305, 0.2127279 ]]]])"
      ]
     },
     "execution_count": 35,
     "metadata": {},
     "output_type": "execute_result"
    }
   ],
   "source": [
    "matrice_multidimensionala=nrd.random((3,3,3,5))\n",
    "matrice_multidimensionala"
   ]
  },
  {
   "cell_type": "code",
   "execution_count": 27,
   "id": "44bf5470-58c3-4bb5-945e-e06bc29bf7b7",
   "metadata": {},
   "outputs": [
    {
     "data": {
      "text/plain": [
       "array([[858, 637, 966, 917, 507],\n",
       "       [624, 927, 605, 924, 135],\n",
       "       [784, 119, 420, 875, 611],\n",
       "       [499, 753, 982, 570, 242],\n",
       "       [191, 453, 933, 899, 826]])"
      ]
     },
     "execution_count": 27,
     "metadata": {},
     "output_type": "execute_result"
    }
   ],
   "source": [
    "matrice_nr_intregi = np.random.randint(100,1000, (5,5))\n",
    "matrice_nr_intregi"
   ]
  },
  {
   "cell_type": "code",
   "execution_count": 41,
   "id": "6080d18d-bfd0-4320-ac7f-ee4d592bed57",
   "metadata": {},
   "outputs": [
    {
     "data": {
      "text/plain": [
       "array([[0., 0., 0., 0., 0.],\n",
       "       [0., 0., 0., 0., 0.],\n",
       "       [0., 0., 0., 0., 0.],\n",
       "       [0., 0., 0., 0., 0.],\n",
       "       [0., 0., 0., 0., 0.]], dtype=float16)"
      ]
     },
     "execution_count": 41,
     "metadata": {},
     "output_type": "execute_result"
    }
   ],
   "source": [
    "matrice_zerouri = np.zeros((5,5), dtype=\"float16\")\n",
    "matrice_zerouri"
   ]
  },
  {
   "cell_type": "code",
   "execution_count": 42,
   "id": "6af8ee04-8146-4adf-92b2-1217f61b49db",
   "metadata": {},
   "outputs": [
    {
     "data": {
      "text/plain": [
       "numpy.float16"
      ]
     },
     "execution_count": 42,
     "metadata": {},
     "output_type": "execute_result"
    }
   ],
   "source": [
    "type(matrice_zerouri[0, 0])"
   ]
  },
  {
   "cell_type": "code",
   "execution_count": 43,
   "id": "db03c9dd-5246-4d73-8e21-9b134795ef37",
   "metadata": {},
   "outputs": [
    {
     "data": {
      "text/plain": [
       "array([[0, 0, 0, 0, 0],\n",
       "       [0, 0, 0, 0, 0],\n",
       "       [0, 0, 0, 0, 0],\n",
       "       [0, 0, 0, 0, 0],\n",
       "       [0, 0, 0, 0, 0]], dtype=int8)"
      ]
     },
     "execution_count": 43,
     "metadata": {},
     "output_type": "execute_result"
    }
   ],
   "source": [
    "matrice_zerouri = np.zeros((5,5), dtype=\"int8\")\n",
    "matrice_zerouri"
   ]
  },
  {
   "cell_type": "code",
   "execution_count": 44,
   "id": "855549b6-8c98-4faf-a150-7f08bf1c6c15",
   "metadata": {},
   "outputs": [
    {
     "data": {
      "text/plain": [
       "array([[1, 1, 1, 1, 1],\n",
       "       [1, 1, 1, 1, 1],\n",
       "       [1, 1, 1, 1, 1],\n",
       "       [1, 1, 1, 1, 1],\n",
       "       [1, 1, 1, 1, 1]], dtype=int8)"
      ]
     },
     "execution_count": 44,
     "metadata": {},
     "output_type": "execute_result"
    }
   ],
   "source": [
    "matrice_unu = np.ones((5,5), dtype=\"int8\")\n",
    "matrice_unu"
   ]
  },
  {
   "cell_type": "code",
   "execution_count": null,
   "id": "ecee806a-6891-4905-b797-331e4b1bfc6b",
   "metadata": {},
   "outputs": [],
   "source": []
  },
  {
   "cell_type": "code",
   "execution_count": null,
   "id": "e3ca74fe-a9c2-442f-b94f-3275d998157b",
   "metadata": {},
   "outputs": [],
   "source": [
    "C:/numpy/random/temporar/stiueuce/random.py"
   ]
  },
  {
   "cell_type": "code",
   "execution_count": 32,
   "id": "4e98c4ab-0c5b-415f-9aa6-67b70042f3bc",
   "metadata": {},
   "outputs": [
    {
     "ename": "TypeError",
     "evalue": "function missing required argument 'year' (pos 1)",
     "output_type": "error",
     "traceback": [
      "\u001b[0;31m---------------------------------------------------------------------------\u001b[0m",
      "\u001b[0;31mTypeError\u001b[0m                                 Traceback (most recent call last)",
      "Input \u001b[0;32mIn [32]\u001b[0m, in \u001b[0;36m<cell line: 1>\u001b[0;34m()\u001b[0m\n\u001b[0;32m----> 1\u001b[0m acum \u001b[38;5;241m=\u001b[39m \u001b[43mdatetime\u001b[49m\u001b[38;5;241;43m.\u001b[39;49m\u001b[43mdatetime\u001b[49m\u001b[43m(\u001b[49m\u001b[43m)\u001b[49m\n\u001b[1;32m      2\u001b[0m acum\n",
      "\u001b[0;31mTypeError\u001b[0m: function missing required argument 'year' (pos 1)"
     ]
    }
   ],
   "source": [
    "import numpy as np "
   ]
  },
  {
   "cell_type": "code",
   "execution_count": null,
   "id": "042d780d-0fe9-4ed3-ba8f-f61642d34132",
   "metadata": {},
   "outputs": [],
   "source": [
    "np.random.temporar.stiueuce.random()"
   ]
  },
  {
   "cell_type": "code",
   "execution_count": null,
   "id": "64bde694-fd05-4f28-a150-dfef3b8ba5ba",
   "metadata": {},
   "outputs": [],
   "source": []
  },
  {
   "cell_type": "code",
   "execution_count": 38,
   "id": "148d3c14-b98a-47b7-a460-711eb66324b4",
   "metadata": {},
   "outputs": [
    {
     "data": {
      "text/plain": [
       "['BitGenerator',\n",
       " 'Generator',\n",
       " 'MT19937',\n",
       " 'PCG64',\n",
       " 'PCG64DXSM',\n",
       " 'Philox',\n",
       " 'RandomState',\n",
       " 'SFC64',\n",
       " 'SeedSequence',\n",
       " '__RandomState_ctor',\n",
       " '__all__',\n",
       " '__builtins__',\n",
       " '__cached__',\n",
       " '__doc__',\n",
       " '__file__',\n",
       " '__loader__',\n",
       " '__name__',\n",
       " '__package__',\n",
       " '__path__',\n",
       " '__spec__',\n",
       " '_bounded_integers',\n",
       " '_common',\n",
       " '_generator',\n",
       " '_mt19937',\n",
       " '_pcg64',\n",
       " '_philox',\n",
       " '_pickle',\n",
       " '_sfc64',\n",
       " 'beta',\n",
       " 'binomial',\n",
       " 'bit_generator',\n",
       " 'bytes',\n",
       " 'chisquare',\n",
       " 'choice',\n",
       " 'default_rng',\n",
       " 'dirichlet',\n",
       " 'exponential',\n",
       " 'f',\n",
       " 'gamma',\n",
       " 'geometric',\n",
       " 'get_state',\n",
       " 'gumbel',\n",
       " 'hypergeometric',\n",
       " 'laplace',\n",
       " 'logistic',\n",
       " 'lognormal',\n",
       " 'logseries',\n",
       " 'mtrand',\n",
       " 'multinomial',\n",
       " 'multivariate_normal',\n",
       " 'negative_binomial',\n",
       " 'noncentral_chisquare',\n",
       " 'noncentral_f',\n",
       " 'normal',\n",
       " 'pareto',\n",
       " 'permutation',\n",
       " 'poisson',\n",
       " 'power',\n",
       " 'rand',\n",
       " 'randint',\n",
       " 'randn',\n",
       " 'random',\n",
       " 'random_integers',\n",
       " 'random_sample',\n",
       " 'ranf',\n",
       " 'rayleigh',\n",
       " 'sample',\n",
       " 'seed',\n",
       " 'set_state',\n",
       " 'shuffle',\n",
       " 'standard_cauchy',\n",
       " 'standard_exponential',\n",
       " 'standard_gamma',\n",
       " 'standard_normal',\n",
       " 'standard_t',\n",
       " 'test',\n",
       " 'triangular',\n",
       " 'uniform',\n",
       " 'vonmises',\n",
       " 'wald',\n",
       " 'weibull',\n",
       " 'zipf']"
      ]
     },
     "execution_count": 38,
     "metadata": {},
     "output_type": "execute_result"
    }
   ],
   "source": [
    "dir(np.random)"
   ]
  },
  {
   "cell_type": "code",
   "execution_count": 60,
   "id": "75cd624f-f2d0-48a3-be9c-df7949941628",
   "metadata": {},
   "outputs": [
    {
     "data": {
      "text/plain": [
       "[[1, 2.0, 5, 7.7, 8, nan], [3, 4, 5, 9, 0, nan], [2, 5, 7, 9, 1, nan]]"
      ]
     },
     "execution_count": 60,
     "metadata": {},
     "output_type": "execute_result"
    }
   ],
   "source": [
    "lista1 = [1,2.0,5,7.7,8, np.nan]\n",
    "lista2 = [3,4,5,9,0, np.nan]\n",
    "lista3 = [2,5,7,9,1, np.nan]\n",
    "\n",
    "lista_listelor = [lista1, lista2, lista3]\n",
    "lista_listelor"
   ]
  },
  {
   "cell_type": "code",
   "execution_count": 62,
   "id": "de330685-c413-4433-a0f4-2e69e38f4d9d",
   "metadata": {},
   "outputs": [
    {
     "data": {
      "text/plain": [
       "array([[1. , 2. , 5. , 7.7, 8. , nan],\n",
       "       [3. , 4. , 5. , 9. , 0. , nan],\n",
       "       [2. , 5. , 7. , 9. , 1. , nan]])"
      ]
     },
     "execution_count": 62,
     "metadata": {},
     "output_type": "execute_result"
    }
   ],
   "source": [
    "matrice_din_liste = np.array(lista_listelor)\n",
    "matrice_din_liste"
   ]
  },
  {
   "cell_type": "code",
   "execution_count": 53,
   "id": "82070e50-8b68-460e-9ade-c81966279db9",
   "metadata": {},
   "outputs": [
    {
     "data": {
      "text/plain": [
       "float"
      ]
     },
     "execution_count": 53,
     "metadata": {},
     "output_type": "execute_result"
    }
   ],
   "source": [
    "type(np.nan)"
   ]
  },
  {
   "cell_type": "code",
   "execution_count": 54,
   "id": "85e4bf01-0a76-4ad4-9423-c390b0e2c66d",
   "metadata": {},
   "outputs": [
    {
     "data": {
      "text/plain": [
       "5.0"
      ]
     },
     "execution_count": 54,
     "metadata": {},
     "output_type": "execute_result"
    }
   ],
   "source": [
    "matrice_din_liste[0,2]"
   ]
  },
  {
   "cell_type": "code",
   "execution_count": 55,
   "id": "46a43806-2d33-491b-92d4-9775f3c7261a",
   "metadata": {},
   "outputs": [
    {
     "data": {
      "text/plain": [
       "numpy.float64"
      ]
     },
     "execution_count": 55,
     "metadata": {},
     "output_type": "execute_result"
    }
   ],
   "source": [
    "type(matrice_din_liste[0,2])"
   ]
  },
  {
   "cell_type": "code",
   "execution_count": 63,
   "id": "3839e1a4-33f4-474d-8edc-cc8e4b5261bf",
   "metadata": {},
   "outputs": [
    {
     "data": {
      "text/plain": [
       "[[1, 2.0, 5, 7.7, 8], [3, 4, 5, 9, 0], [2, 5, 7, 9, 1]]"
      ]
     },
     "execution_count": 63,
     "metadata": {},
     "output_type": "execute_result"
    }
   ],
   "source": [
    "lista1 = [1,2.0,5,7.7,8]\n",
    "lista2 = [3,4,5,9,0]\n",
    "lista3 = [2,5,7,9,1]\n",
    "\n",
    "lista_listelor2 = [lista1, lista2, lista3]\n",
    "lista_listelor2"
   ]
  },
  {
   "cell_type": "code",
   "execution_count": 75,
   "id": "57df665c-6443-4c9d-b8d2-ba91907d636a",
   "metadata": {},
   "outputs": [
    {
     "data": {
      "text/plain": [
       "array([[1. , 2. , 5. , 7.7, 8. ],\n",
       "       [3. , 4. , 5. , 9. , 0. ],\n",
       "       [2. , 5. , 7. , 9. , 1. ]])"
      ]
     },
     "execution_count": 75,
     "metadata": {},
     "output_type": "execute_result"
    }
   ],
   "source": [
    "matrice_din_liste2 = np.array(lista_listelor2)\n",
    "matrice_din_liste2"
   ]
  },
  {
   "cell_type": "code",
   "execution_count": 76,
   "id": "bd80ec8e-5662-45ea-975b-c8f0359eec39",
   "metadata": {},
   "outputs": [],
   "source": [
    "matrice3 =matrice_din_liste2.astype(\"int16\")"
   ]
  },
  {
   "cell_type": "code",
   "execution_count": 66,
   "id": "aa3b8900-56ca-43d6-bd06-756684dee68f",
   "metadata": {},
   "outputs": [
    {
     "data": {
      "text/plain": [
       "array([[1, 2, 5, 7, 8],\n",
       "       [3, 4, 5, 9, 0],\n",
       "       [2, 5, 7, 9, 1]], dtype=int16)"
      ]
     },
     "execution_count": 66,
     "metadata": {},
     "output_type": "execute_result"
    }
   ],
   "source": [
    "matrice3"
   ]
  },
  {
   "cell_type": "code",
   "execution_count": 70,
   "id": "fcbe09c3-0158-4c68-898b-2c71930aa65f",
   "metadata": {},
   "outputs": [
    {
     "data": {
      "text/plain": [
       "2"
      ]
     },
     "execution_count": 70,
     "metadata": {},
     "output_type": "execute_result"
    }
   ],
   "source": [
    "matrice3.ndim"
   ]
  },
  {
   "cell_type": "code",
   "execution_count": 71,
   "id": "f42b4183-a3e4-49bf-8947-9ac8d4bc93a2",
   "metadata": {},
   "outputs": [
    {
     "data": {
      "text/plain": [
       "(3, 5)"
      ]
     },
     "execution_count": 71,
     "metadata": {},
     "output_type": "execute_result"
    }
   ],
   "source": [
    "matrice3.shape"
   ]
  },
  {
   "cell_type": "code",
   "execution_count": 73,
   "id": "9f62a170-21f3-4d2d-866c-962e54d128a5",
   "metadata": {},
   "outputs": [
    {
     "data": {
      "text/plain": [
       "array([[1, 2, 5],\n",
       "       [7, 8, 3],\n",
       "       [4, 5, 9],\n",
       "       [0, 2, 5],\n",
       "       [7, 9, 1]], dtype=int16)"
      ]
     },
     "execution_count": 73,
     "metadata": {},
     "output_type": "execute_result"
    }
   ],
   "source": [
    "matrice3.reshape(5,3)"
   ]
  },
  {
   "cell_type": "code",
   "execution_count": 77,
   "id": "ca1d5751-19f8-40d6-91a2-65be2b62ae8b",
   "metadata": {},
   "outputs": [
    {
     "data": {
      "text/plain": [
       "array([[1, 3, 2],\n",
       "       [2, 4, 5],\n",
       "       [5, 5, 7],\n",
       "       [7, 9, 9],\n",
       "       [8, 0, 1]], dtype=int16)"
      ]
     },
     "execution_count": 77,
     "metadata": {},
     "output_type": "execute_result"
    }
   ],
   "source": [
    "matrice3.T"
   ]
  },
  {
   "cell_type": "code",
   "execution_count": 78,
   "id": "6d4c72c5-af3f-4126-909a-8acaaeadce83",
   "metadata": {},
   "outputs": [],
   "source": [
    "conditie = np.where(matrice3 >= 7)"
   ]
  },
  {
   "cell_type": "code",
   "execution_count": 79,
   "id": "79365a2e-7d8b-4f92-adde-e51edaa95a4c",
   "metadata": {},
   "outputs": [
    {
     "data": {
      "text/plain": [
       "array([7, 8, 9, 7, 9], dtype=int16)"
      ]
     },
     "execution_count": 79,
     "metadata": {},
     "output_type": "execute_result"
    }
   ],
   "source": [
    "matrice3[conditie]"
   ]
  },
  {
   "cell_type": "code",
   "execution_count": 80,
   "id": "f881b0bd-352a-4d51-9c7d-84054b4247a7",
   "metadata": {},
   "outputs": [
    {
     "data": {
      "text/plain": [
       "array([7, 8, 9, 7, 9], dtype=int16)"
      ]
     },
     "execution_count": 80,
     "metadata": {},
     "output_type": "execute_result"
    }
   ],
   "source": [
    "matrice3[np.where(matrice3 >= 7)]"
   ]
  },
  {
   "cell_type": "code",
   "execution_count": 81,
   "id": "2f8a5eaf-efe7-40b9-9df5-3a44dfbc020d",
   "metadata": {},
   "outputs": [
    {
     "data": {
      "text/plain": [
       "tuple"
      ]
     },
     "execution_count": 81,
     "metadata": {},
     "output_type": "execute_result"
    }
   ],
   "source": [
    "type(conditie)"
   ]
  },
  {
   "cell_type": "code",
   "execution_count": 83,
   "id": "cfe487c6-24ff-47cf-83b5-ddf081944c23",
   "metadata": {},
   "outputs": [
    {
     "data": {
      "text/plain": [
       "array([0, 0, 1, 2, 2])"
      ]
     },
     "execution_count": 83,
     "metadata": {},
     "output_type": "execute_result"
    }
   ],
   "source": [
    "conditie"
   ]
  },
  {
   "cell_type": "code",
   "execution_count": 84,
   "id": "b8e84bad-d32e-44ef-9c86-bedab318fe3f",
   "metadata": {},
   "outputs": [],
   "source": [
    "#dir(matrice3)"
   ]
  },
  {
   "cell_type": "code",
   "execution_count": 85,
   "id": "518fc1a7-2563-48d8-94e7-e73b6acb89b1",
   "metadata": {},
   "outputs": [
    {
     "data": {
      "text/plain": [
       "array([[1, 2, 5, 7, 8],\n",
       "       [3, 4, 5, 9, 0],\n",
       "       [2, 5, 7, 9, 1]], dtype=int16)"
      ]
     },
     "execution_count": 85,
     "metadata": {},
     "output_type": "execute_result"
    }
   ],
   "source": [
    "matrice3"
   ]
  },
  {
   "cell_type": "code",
   "execution_count": 86,
   "id": "7eb51a0f-5505-4d35-92ee-17883f3b21d8",
   "metadata": {},
   "outputs": [
    {
     "data": {
      "text/plain": [
       "array([[5, 9, 0],\n",
       "       [7, 9, 1]], dtype=int16)"
      ]
     },
     "execution_count": 86,
     "metadata": {},
     "output_type": "execute_result"
    }
   ],
   "source": [
    "matrice3[1:, 2:]"
   ]
  },
  {
   "cell_type": "code",
   "execution_count": 88,
   "id": "2bde9676-373d-4632-9c89-13b5d49890d4",
   "metadata": {},
   "outputs": [
    {
     "data": {
      "text/plain": [
       "68"
      ]
     },
     "execution_count": 88,
     "metadata": {},
     "output_type": "execute_result"
    }
   ],
   "source": [
    "matrice3.sum()"
   ]
  },
  {
   "cell_type": "code",
   "execution_count": 89,
   "id": "25179187-6cd0-4af6-827f-d1f98d081bb2",
   "metadata": {},
   "outputs": [
    {
     "data": {
      "text/plain": [
       "4.533333333333333"
      ]
     },
     "execution_count": 89,
     "metadata": {},
     "output_type": "execute_result"
    }
   ],
   "source": [
    "matrice3.mean()"
   ]
  },
  {
   "cell_type": "code",
   "execution_count": 90,
   "id": "f5d2849e-d57a-4fc3-9d16-878287282db4",
   "metadata": {},
   "outputs": [
    {
     "data": {
      "text/plain": [
       "5.166666666666667"
      ]
     },
     "execution_count": 90,
     "metadata": {},
     "output_type": "execute_result"
    }
   ],
   "source": [
    "matrice3[1:, 2:].mean()"
   ]
  },
  {
   "cell_type": "code",
   "execution_count": 91,
   "id": "4f48a8df-1398-4a39-b57a-48ae3e5f2bad",
   "metadata": {},
   "outputs": [
    {
     "data": {
      "text/plain": [
       "array([ 1,  3,  8, 15, 23, 26, 30, 35, 44, 44, 46, 51, 58, 67, 68])"
      ]
     },
     "execution_count": 91,
     "metadata": {},
     "output_type": "execute_result"
    }
   ],
   "source": [
    "matrice3.cumsum()"
   ]
  },
  {
   "cell_type": "code",
   "execution_count": 92,
   "id": "3b9f2b40-6d04-4aa0-88c4-a0098a2c21fc",
   "metadata": {},
   "outputs": [
    {
     "data": {
      "text/plain": [
       "(3, 5)"
      ]
     },
     "execution_count": 92,
     "metadata": {},
     "output_type": "execute_result"
    }
   ],
   "source": [
    "matrice3.shape"
   ]
  },
  {
   "cell_type": "code",
   "execution_count": 93,
   "id": "5dd74b97-b4c4-40c2-9fb4-0963da88f176",
   "metadata": {},
   "outputs": [
    {
     "data": {
      "text/plain": [
       "9"
      ]
     },
     "execution_count": 93,
     "metadata": {},
     "output_type": "execute_result"
    }
   ],
   "source": [
    "matrice3.max()"
   ]
  },
  {
   "cell_type": "code",
   "execution_count": 94,
   "id": "b040f6c3-51a8-4a23-9296-5abc421d3032",
   "metadata": {},
   "outputs": [
    {
     "data": {
      "text/plain": [
       "0"
      ]
     },
     "execution_count": 94,
     "metadata": {},
     "output_type": "execute_result"
    }
   ],
   "source": [
    "matrice3.min()"
   ]
  },
  {
   "cell_type": "code",
   "execution_count": 105,
   "id": "d0ea3644-4d69-46d2-8951-db4610863cda",
   "metadata": {},
   "outputs": [],
   "source": [
    "matrice_distante_egale = np.linspace(0, 9, 5, dtype=\"int32\")"
   ]
  },
  {
   "cell_type": "code",
   "execution_count": 106,
   "id": "6935a4ea-9e38-4816-bde6-d8d7d0cdfb56",
   "metadata": {},
   "outputs": [
    {
     "data": {
      "text/plain": [
       "array([0, 2, 4, 6, 9], dtype=int32)"
      ]
     },
     "execution_count": 106,
     "metadata": {},
     "output_type": "execute_result"
    }
   ],
   "source": [
    "matrice_distante_egale"
   ]
  },
  {
   "cell_type": "code",
   "execution_count": 107,
   "id": "310cfbdf-6232-4dd8-9d3f-9bbeee49ca1e",
   "metadata": {},
   "outputs": [],
   "source": [
    "lista_de_numere = [1, 23, 4, 31, 1, 1, 4, 23, 4, 1]"
   ]
  },
  {
   "cell_type": "code",
   "execution_count": 108,
   "id": "3b07a9e3-a001-4c87-9983-ad964f6e93fb",
   "metadata": {},
   "outputs": [
    {
     "data": {
      "text/plain": [
       "array([ 1, 23,  4, 31,  1,  1,  4, 23,  4,  1])"
      ]
     },
     "execution_count": 108,
     "metadata": {},
     "output_type": "execute_result"
    }
   ],
   "source": [
    "matrice4 = np.array(lista_de_numere)\n",
    "matrice4"
   ]
  },
  {
   "cell_type": "code",
   "execution_count": 110,
   "id": "add779c8-3129-44e4-b586-cecac15cf190",
   "metadata": {},
   "outputs": [
    {
     "data": {
      "text/plain": [
       "array([ 1,  4, 23, 31])"
      ]
     },
     "execution_count": 110,
     "metadata": {},
     "output_type": "execute_result"
    }
   ],
   "source": [
    "np.unique(matrice4)"
   ]
  },
  {
   "cell_type": "code",
   "execution_count": 111,
   "id": "edb98b24-8b70-475a-9255-bb288fd340cb",
   "metadata": {},
   "outputs": [],
   "source": [
    "un_set =set(lista_de_numere)"
   ]
  },
  {
   "cell_type": "code",
   "execution_count": 113,
   "id": "ec80e0a2-2f03-4ffa-b9b7-dfa21f0e2a84",
   "metadata": {},
   "outputs": [
    {
     "data": {
      "text/plain": [
       "[1, 4, 31, 23]"
      ]
     },
     "execution_count": 113,
     "metadata": {},
     "output_type": "execute_result"
    }
   ],
   "source": [
    "lista_noua = list(un_set)\n",
    "lista_noua"
   ]
  },
  {
   "cell_type": "code",
   "execution_count": 115,
   "id": "f1fcac80-7cb6-4867-8c66-aecb5c707258",
   "metadata": {},
   "outputs": [
    {
     "data": {
      "text/plain": [
       "array([1, 4, 7], dtype=int16)"
      ]
     },
     "execution_count": 115,
     "metadata": {},
     "output_type": "execute_result"
    }
   ],
   "source": [
    "matrice3.diagonal()"
   ]
  },
  {
   "cell_type": "code",
   "execution_count": 116,
   "id": "33d201c7-3383-472f-8049-d4c96c24b8aa",
   "metadata": {},
   "outputs": [
    {
     "data": {
      "text/plain": [
       "array([[1, 2, 5, 7, 8],\n",
       "       [3, 4, 5, 9, 0],\n",
       "       [2, 5, 7, 9, 1]], dtype=int16)"
      ]
     },
     "execution_count": 116,
     "metadata": {},
     "output_type": "execute_result"
    }
   ],
   "source": [
    "matrice3"
   ]
  },
  {
   "cell_type": "code",
   "execution_count": 119,
   "id": "e8a6526f-6b8b-420f-b937-527759ea9d3b",
   "metadata": {},
   "outputs": [],
   "source": [
    "matrice5 = matrice3[:, :3]"
   ]
  },
  {
   "cell_type": "code",
   "execution_count": 120,
   "id": "a5fc6bf4-af03-4b54-ba41-f748ed91b285",
   "metadata": {},
   "outputs": [
    {
     "data": {
      "text/plain": [
       "array([[1, 2, 5],\n",
       "       [3, 4, 5],\n",
       "       [2, 5, 7]], dtype=int16)"
      ]
     },
     "execution_count": 120,
     "metadata": {},
     "output_type": "execute_result"
    }
   ],
   "source": [
    "matrice5"
   ]
  },
  {
   "cell_type": "code",
   "execution_count": 122,
   "id": "1425e465-62fd-47b2-85c3-14ddd878aa95",
   "metadata": {},
   "outputs": [
    {
     "data": {
      "text/plain": [
       "12"
      ]
     },
     "execution_count": 122,
     "metadata": {},
     "output_type": "execute_result"
    }
   ],
   "source": [
    "matrice5.diagonal().sum()"
   ]
  },
  {
   "cell_type": "code",
   "execution_count": 126,
   "id": "f905c5b8-65bf-46aa-9988-ef1c8ae46efd",
   "metadata": {},
   "outputs": [
    {
     "data": {
      "text/plain": [
       "array([1, 2, 5, 3, 4, 5, 2, 5, 7], dtype=int16)"
      ]
     },
     "execution_count": 126,
     "metadata": {},
     "output_type": "execute_result"
    }
   ],
   "source": [
    "matrice5.flatten()"
   ]
  },
  {
   "cell_type": "code",
   "execution_count": 125,
   "id": "d9c62028-bfad-491c-9af5-436f2cd465a5",
   "metadata": {},
   "outputs": [
    {
     "data": {
      "text/plain": [
       "{1, 2, 3, 4, 5, 7}"
      ]
     },
     "execution_count": 125,
     "metadata": {},
     "output_type": "execute_result"
    }
   ],
   "source": [
    "set(list(matrice5.flatten()))"
   ]
  },
  {
   "cell_type": "code",
   "execution_count": 129,
   "id": "6a022292-9156-4896-a1b2-e14a26a2cd24",
   "metadata": {},
   "outputs": [
    {
     "data": {
      "text/plain": [
       "array([ 2,  3,  4,  5,  6,  7,  8,  9, 10])"
      ]
     },
     "execution_count": 129,
     "metadata": {},
     "output_type": "execute_result"
    }
   ],
   "source": [
    "matrice6 = np.arange(2, 11).reshape(3,3)\n",
    "matrice6"
   ]
  },
  {
   "cell_type": "code",
   "execution_count": 132,
   "id": "d8977bf7-8324-455d-b808-88c08901819e",
   "metadata": {},
   "outputs": [],
   "source": [
    "matrice7 = matrice6.reshape(3,3)"
   ]
  },
  {
   "cell_type": "code",
   "execution_count": 131,
   "id": "fcbb7cc2-07de-4ea2-8406-0a5be49f319c",
   "metadata": {},
   "outputs": [
    {
     "data": {
      "text/plain": [
       "9"
      ]
     },
     "execution_count": 131,
     "metadata": {},
     "output_type": "execute_result"
    }
   ],
   "source": [
    "matrice6.size"
   ]
  },
  {
   "cell_type": "code",
   "execution_count": 135,
   "id": "0b8fb4eb-0fbe-4eec-9b70-7eff14b27d64",
   "metadata": {},
   "outputs": [
    {
     "ename": "ValueError",
     "evalue": "cannot reshape array of size 9 into shape (5,2)",
     "output_type": "error",
     "traceback": [
      "\u001b[0;31m---------------------------------------------------------------------------\u001b[0m",
      "\u001b[0;31mValueError\u001b[0m                                Traceback (most recent call last)",
      "Input \u001b[0;32mIn [135]\u001b[0m, in \u001b[0;36m<cell line: 1>\u001b[0;34m()\u001b[0m\n\u001b[0;32m----> 1\u001b[0m \u001b[43mmatrice7\u001b[49m\u001b[38;5;241;43m.\u001b[39;49m\u001b[43mreshape\u001b[49m\u001b[43m(\u001b[49m\u001b[38;5;241;43m5\u001b[39;49m\u001b[43m,\u001b[49m\u001b[38;5;241;43m2\u001b[39;49m\u001b[43m)\u001b[49m\n",
      "\u001b[0;31mValueError\u001b[0m: cannot reshape array of size 9 into shape (5,2)"
     ]
    }
   ],
   "source": [
    "matrice7.reshape(5,2)"
   ]
  },
  {
   "cell_type": "code",
   "execution_count": 136,
   "id": "9db364eb-b52b-4d0b-bfa0-5c8abe37da78",
   "metadata": {},
   "outputs": [
    {
     "data": {
      "text/plain": [
       "array([[ 2,  3,  4],\n",
       "       [ 5,  6,  7],\n",
       "       [ 8,  9, 10]])"
      ]
     },
     "execution_count": 136,
     "metadata": {},
     "output_type": "execute_result"
    }
   ],
   "source": [
    "matrice8 = np.arange(2, 11).reshape(3,3)\n",
    "matrice8"
   ]
  },
  {
   "cell_type": "code",
   "execution_count": 139,
   "id": "424d7fd7-9c0b-4662-a261-d0346b4f940b",
   "metadata": {},
   "outputs": [
    {
     "data": {
      "text/plain": [
       "array([10, 14, 18, 22, 26, 30])"
      ]
     },
     "execution_count": 139,
     "metadata": {},
     "output_type": "execute_result"
    }
   ],
   "source": [
    "matrice9 = np.arange(10,31, 4)\n",
    "matrice9"
   ]
  },
  {
   "cell_type": "code",
   "execution_count": 146,
   "id": "2d611386-0671-4016-aaff-d89f5a5d3e85",
   "metadata": {},
   "outputs": [],
   "source": [
    "matrice10 = np.random.randint(10,30, 6)"
   ]
  },
  {
   "cell_type": "code",
   "execution_count": 147,
   "id": "b866dcab-7664-489e-96f9-112e5d6e0574",
   "metadata": {},
   "outputs": [
    {
     "data": {
      "text/plain": [
       "array([16, 23, 22, 17, 19, 18])"
      ]
     },
     "execution_count": 147,
     "metadata": {},
     "output_type": "execute_result"
    }
   ],
   "source": [
    "matrice10"
   ]
  },
  {
   "cell_type": "code",
   "execution_count": 148,
   "id": "89109e7d-d04f-4cf2-acb1-d21c1039317d",
   "metadata": {},
   "outputs": [
    {
     "data": {
      "text/plain": [
       "array([[27, 11, 14, 14, 15, 28]])"
      ]
     },
     "execution_count": 148,
     "metadata": {},
     "output_type": "execute_result"
    }
   ],
   "source": [
    "matrice11 = np.random.randint(10,30, (1,6))\n",
    "matrice11"
   ]
  },
  {
   "cell_type": "code",
   "execution_count": 149,
   "id": "bd167837-7614-4314-b153-bcf389050dc5",
   "metadata": {},
   "outputs": [
    {
     "data": {
      "text/plain": [
       "(1, 2)"
      ]
     },
     "execution_count": 149,
     "metadata": {},
     "output_type": "execute_result"
    }
   ],
   "source": [
    "matrice10.ndim, matrice11.ndim"
   ]
  },
  {
   "cell_type": "code",
   "execution_count": 152,
   "id": "3a81a8d4-d8fd-430c-92d3-1d60c8ebbbf4",
   "metadata": {},
   "outputs": [],
   "source": [
    "import pandas as pd"
   ]
  },
  {
   "cell_type": "code",
   "execution_count": 151,
   "id": "7cdf8912-7086-4239-80e1-41b34908519a",
   "metadata": {},
   "outputs": [
    {
     "name": "stdout",
     "output_type": "stream",
     "text": [
      "\u001b[33mDEPRECATION: Configuring installation scheme with distutils config files is deprecated and will no longer work in the near future. If you are using a Homebrew or Linuxbrew Python, please see discussion at https://github.com/Homebrew/homebrew-core/issues/76621\u001b[0m\u001b[33m\n",
      "\u001b[0mCollecting pandas\n",
      "  Using cached pandas-1.4.3-cp39-cp39-macosx_10_9_x86_64.whl (11.5 MB)\n",
      "Requirement already satisfied: numpy>=1.18.5 in /usr/local/lib/python3.9/site-packages (from pandas) (1.23.2)\n",
      "Requirement already satisfied: pytz>=2020.1 in /usr/local/lib/python3.9/site-packages (from pandas) (2022.1)\n",
      "Requirement already satisfied: python-dateutil>=2.8.1 in /usr/local/lib/python3.9/site-packages (from pandas) (2.8.2)\n",
      "Requirement already satisfied: six>=1.5 in /usr/local/lib/python3.9/site-packages (from python-dateutil>=2.8.1->pandas) (1.16.0)\n",
      "Installing collected packages: pandas\n",
      "\u001b[33m  DEPRECATION: Configuring installation scheme with distutils config files is deprecated and will no longer work in the near future. If you are using a Homebrew or Linuxbrew Python, please see discussion at https://github.com/Homebrew/homebrew-core/issues/76621\u001b[0m\u001b[33m\n",
      "\u001b[0m\u001b[33mDEPRECATION: Configuring installation scheme with distutils config files is deprecated and will no longer work in the near future. If you are using a Homebrew or Linuxbrew Python, please see discussion at https://github.com/Homebrew/homebrew-core/issues/76621\u001b[0m\u001b[33m\n",
      "\u001b[0mSuccessfully installed pandas-1.4.3\n"
     ]
    }
   ],
   "source": [
    "import sys\n",
    "!{sys.executable} -m pip install pandas"
   ]
  },
  {
   "cell_type": "code",
   "execution_count": 153,
   "id": "ee45d236-f7d7-4998-82d9-5b974f4ebb19",
   "metadata": {},
   "outputs": [],
   "source": [
    "df = pd.DataFrame(matrice5)"
   ]
  },
  {
   "cell_type": "code",
   "execution_count": 154,
   "id": "8a0859fa-2153-42f2-9159-f08535ded02a",
   "metadata": {},
   "outputs": [
    {
     "data": {
      "text/html": [
       "<div>\n",
       "<style scoped>\n",
       "    .dataframe tbody tr th:only-of-type {\n",
       "        vertical-align: middle;\n",
       "    }\n",
       "\n",
       "    .dataframe tbody tr th {\n",
       "        vertical-align: top;\n",
       "    }\n",
       "\n",
       "    .dataframe thead th {\n",
       "        text-align: right;\n",
       "    }\n",
       "</style>\n",
       "<table border=\"1\" class=\"dataframe\">\n",
       "  <thead>\n",
       "    <tr style=\"text-align: right;\">\n",
       "      <th></th>\n",
       "      <th>0</th>\n",
       "      <th>1</th>\n",
       "      <th>2</th>\n",
       "    </tr>\n",
       "  </thead>\n",
       "  <tbody>\n",
       "    <tr>\n",
       "      <th>0</th>\n",
       "      <td>1</td>\n",
       "      <td>2</td>\n",
       "      <td>5</td>\n",
       "    </tr>\n",
       "    <tr>\n",
       "      <th>1</th>\n",
       "      <td>3</td>\n",
       "      <td>4</td>\n",
       "      <td>5</td>\n",
       "    </tr>\n",
       "    <tr>\n",
       "      <th>2</th>\n",
       "      <td>2</td>\n",
       "      <td>5</td>\n",
       "      <td>7</td>\n",
       "    </tr>\n",
       "  </tbody>\n",
       "</table>\n",
       "</div>"
      ],
      "text/plain": [
       "   0  1  2\n",
       "0  1  2  5\n",
       "1  3  4  5\n",
       "2  2  5  7"
      ]
     },
     "execution_count": 154,
     "metadata": {},
     "output_type": "execute_result"
    }
   ],
   "source": [
    "df"
   ]
  },
  {
   "cell_type": "code",
   "execution_count": 155,
   "id": "6f5a1252-c3b3-4ead-bbc2-554340d03697",
   "metadata": {},
   "outputs": [
    {
     "data": {
      "text/plain": [
       "pandas.core.frame.DataFrame"
      ]
     },
     "execution_count": 155,
     "metadata": {},
     "output_type": "execute_result"
    }
   ],
   "source": [
    "type(df)"
   ]
  },
  {
   "cell_type": "code",
   "execution_count": 156,
   "id": "36f309a4-94f9-478c-9a71-6acca79adbe8",
   "metadata": {},
   "outputs": [
    {
     "data": {
      "text/plain": [
       "(3, 3)"
      ]
     },
     "execution_count": 156,
     "metadata": {},
     "output_type": "execute_result"
    }
   ],
   "source": [
    "df.shape"
   ]
  },
  {
   "cell_type": "code",
   "execution_count": 166,
   "id": "d0060c90-5109-4663-ad41-6ebe670afc52",
   "metadata": {},
   "outputs": [
    {
     "data": {
      "text/plain": [
       "0    2.0\n",
       "1    4.0\n",
       "2    5.0\n",
       "dtype: float64"
      ]
     },
     "execution_count": 166,
     "metadata": {},
     "output_type": "execute_result"
    }
   ],
   "source": [
    "df.median()"
   ]
  },
  {
   "cell_type": "code",
   "execution_count": 158,
   "id": "4b1414f8-93f0-488c-9e15-9e4c773f514f",
   "metadata": {},
   "outputs": [
    {
     "data": {
      "text/plain": [
       "0    2.000000\n",
       "1    3.666667\n",
       "2    5.666667\n",
       "dtype: float64"
      ]
     },
     "execution_count": 158,
     "metadata": {},
     "output_type": "execute_result"
    }
   ],
   "source": [
    "df.mean()"
   ]
  },
  {
   "cell_type": "code",
   "execution_count": 159,
   "id": "9a4d4a61-e00e-4288-88ea-fcb77a3d8993",
   "metadata": {},
   "outputs": [
    {
     "data": {
      "text/plain": [
       "0     6\n",
       "1    11\n",
       "2    17\n",
       "dtype: int64"
      ]
     },
     "execution_count": 159,
     "metadata": {},
     "output_type": "execute_result"
    }
   ],
   "source": [
    "df.sum()"
   ]
  },
  {
   "cell_type": "code",
   "execution_count": 161,
   "id": "9fc99c49-a493-475d-bc69-c3b040caf399",
   "metadata": {},
   "outputs": [
    {
     "data": {
      "text/plain": [
       "1"
      ]
     },
     "execution_count": 161,
     "metadata": {},
     "output_type": "execute_result"
    }
   ],
   "source": [
    "df.iloc[0,0]"
   ]
  },
  {
   "cell_type": "code",
   "execution_count": 165,
   "id": "7c65de25-81fa-4484-ba16-01bebf03fd76",
   "metadata": {},
   "outputs": [
    {
     "data": {
      "text/plain": [
       "array([5, 7], dtype=int16)"
      ]
     },
     "execution_count": 165,
     "metadata": {},
     "output_type": "execute_result"
    }
   ],
   "source": [
    "df[2].unique()"
   ]
  },
  {
   "cell_type": "code",
   "execution_count": 169,
   "id": "fd7c44e3-0ebc-4050-937e-fd944d2c0463",
   "metadata": {},
   "outputs": [
    {
     "data": {
      "text/plain": [
       "array([[ 2,  3,  4],\n",
       "       [ 5,  6,  7],\n",
       "       [ 8,  9, 10]])"
      ]
     },
     "execution_count": 169,
     "metadata": {},
     "output_type": "execute_result"
    }
   ],
   "source": [
    "matrice8"
   ]
  },
  {
   "cell_type": "code",
   "execution_count": 170,
   "id": "d5d55873-d0f0-4a5a-a6d3-c37b7280f253",
   "metadata": {},
   "outputs": [
    {
     "data": {
      "text/plain": [
       "True"
      ]
     },
     "execution_count": 170,
     "metadata": {},
     "output_type": "execute_result"
    }
   ],
   "source": [
    "matrice8.any()"
   ]
  },
  {
   "cell_type": "code",
   "execution_count": 171,
   "id": "a7448c70-cbd5-47e9-9015-f4036ae332f9",
   "metadata": {},
   "outputs": [
    {
     "data": {
      "text/plain": [
       "True"
      ]
     },
     "execution_count": 171,
     "metadata": {},
     "output_type": "execute_result"
    }
   ],
   "source": [
    "matrice8.all()"
   ]
  },
  {
   "cell_type": "code",
   "execution_count": 168,
   "id": "2cb68f2d-faa3-4013-9a68-b4baeae1ce6a",
   "metadata": {},
   "outputs": [
    {
     "data": {
      "text/plain": [
       "['T',\n",
       " '_AXIS_LEN',\n",
       " '_AXIS_ORDERS',\n",
       " '_AXIS_TO_AXIS_NUMBER',\n",
       " '_HANDLED_TYPES',\n",
       " '__abs__',\n",
       " '__add__',\n",
       " '__and__',\n",
       " '__annotations__',\n",
       " '__array__',\n",
       " '__array_priority__',\n",
       " '__array_ufunc__',\n",
       " '__array_wrap__',\n",
       " '__bool__',\n",
       " '__class__',\n",
       " '__contains__',\n",
       " '__copy__',\n",
       " '__deepcopy__',\n",
       " '__delattr__',\n",
       " '__delitem__',\n",
       " '__dict__',\n",
       " '__dir__',\n",
       " '__divmod__',\n",
       " '__doc__',\n",
       " '__eq__',\n",
       " '__finalize__',\n",
       " '__floordiv__',\n",
       " '__format__',\n",
       " '__ge__',\n",
       " '__getattr__',\n",
       " '__getattribute__',\n",
       " '__getitem__',\n",
       " '__getstate__',\n",
       " '__gt__',\n",
       " '__hash__',\n",
       " '__iadd__',\n",
       " '__iand__',\n",
       " '__ifloordiv__',\n",
       " '__imod__',\n",
       " '__imul__',\n",
       " '__init__',\n",
       " '__init_subclass__',\n",
       " '__invert__',\n",
       " '__ior__',\n",
       " '__ipow__',\n",
       " '__isub__',\n",
       " '__iter__',\n",
       " '__itruediv__',\n",
       " '__ixor__',\n",
       " '__le__',\n",
       " '__len__',\n",
       " '__lt__',\n",
       " '__matmul__',\n",
       " '__mod__',\n",
       " '__module__',\n",
       " '__mul__',\n",
       " '__ne__',\n",
       " '__neg__',\n",
       " '__new__',\n",
       " '__nonzero__',\n",
       " '__or__',\n",
       " '__pos__',\n",
       " '__pow__',\n",
       " '__radd__',\n",
       " '__rand__',\n",
       " '__rdivmod__',\n",
       " '__reduce__',\n",
       " '__reduce_ex__',\n",
       " '__repr__',\n",
       " '__rfloordiv__',\n",
       " '__rmatmul__',\n",
       " '__rmod__',\n",
       " '__rmul__',\n",
       " '__ror__',\n",
       " '__round__',\n",
       " '__rpow__',\n",
       " '__rsub__',\n",
       " '__rtruediv__',\n",
       " '__rxor__',\n",
       " '__setattr__',\n",
       " '__setitem__',\n",
       " '__setstate__',\n",
       " '__sizeof__',\n",
       " '__str__',\n",
       " '__sub__',\n",
       " '__subclasshook__',\n",
       " '__truediv__',\n",
       " '__weakref__',\n",
       " '__xor__',\n",
       " '_accessors',\n",
       " '_accum_func',\n",
       " '_add_numeric_operations',\n",
       " '_agg_by_level',\n",
       " '_agg_examples_doc',\n",
       " '_agg_summary_and_see_also_doc',\n",
       " '_align_frame',\n",
       " '_align_series',\n",
       " '_append',\n",
       " '_arith_method',\n",
       " '_as_manager',\n",
       " '_attrs',\n",
       " '_box_col_values',\n",
       " '_can_fast_transpose',\n",
       " '_check_inplace_and_allows_duplicate_labels',\n",
       " '_check_inplace_setting',\n",
       " '_check_is_chained_assignment_possible',\n",
       " '_check_label_or_level_ambiguity',\n",
       " '_check_setitem_copy',\n",
       " '_clear_item_cache',\n",
       " '_clip_with_one_bound',\n",
       " '_clip_with_scalar',\n",
       " '_cmp_method',\n",
       " '_combine_frame',\n",
       " '_consolidate',\n",
       " '_consolidate_inplace',\n",
       " '_construct_axes_dict',\n",
       " '_construct_axes_from_arguments',\n",
       " '_construct_result',\n",
       " '_constructor',\n",
       " '_constructor_sliced',\n",
       " '_convert',\n",
       " '_count_level',\n",
       " '_data',\n",
       " '_dir_additions',\n",
       " '_dir_deletions',\n",
       " '_dispatch_frame_op',\n",
       " '_drop_axis',\n",
       " '_drop_labels_or_levels',\n",
       " '_ensure_valid_index',\n",
       " '_find_valid_index',\n",
       " '_flags',\n",
       " '_from_arrays',\n",
       " '_from_mgr',\n",
       " '_get_agg_axis',\n",
       " '_get_axis',\n",
       " '_get_axis_name',\n",
       " '_get_axis_number',\n",
       " '_get_axis_resolvers',\n",
       " '_get_block_manager_axis',\n",
       " '_get_bool_data',\n",
       " '_get_cleaned_column_resolvers',\n",
       " '_get_column_array',\n",
       " '_get_index_resolvers',\n",
       " '_get_item_cache',\n",
       " '_get_label_or_level_values',\n",
       " '_get_numeric_data',\n",
       " '_get_value',\n",
       " '_getitem_bool_array',\n",
       " '_getitem_multilevel',\n",
       " '_gotitem',\n",
       " '_hidden_attrs',\n",
       " '_indexed_same',\n",
       " '_info_axis',\n",
       " '_info_axis_name',\n",
       " '_info_axis_number',\n",
       " '_info_repr',\n",
       " '_init_mgr',\n",
       " '_inplace_method',\n",
       " '_internal_names',\n",
       " '_internal_names_set',\n",
       " '_is_copy',\n",
       " '_is_homogeneous_type',\n",
       " '_is_label_or_level_reference',\n",
       " '_is_label_reference',\n",
       " '_is_level_reference',\n",
       " '_is_mixed_type',\n",
       " '_is_view',\n",
       " '_iset_item',\n",
       " '_iset_item_mgr',\n",
       " '_iset_not_inplace',\n",
       " '_item_cache',\n",
       " '_iter_column_arrays',\n",
       " '_ixs',\n",
       " '_join_compat',\n",
       " '_logical_func',\n",
       " '_logical_method',\n",
       " '_maybe_cache_changed',\n",
       " '_maybe_update_cacher',\n",
       " '_metadata',\n",
       " '_mgr',\n",
       " '_min_count_stat_function',\n",
       " '_needs_reindex_multi',\n",
       " '_protect_consolidate',\n",
       " '_reduce',\n",
       " '_reduce_axis1',\n",
       " '_reindex_axes',\n",
       " '_reindex_columns',\n",
       " '_reindex_index',\n",
       " '_reindex_multi',\n",
       " '_reindex_with_indexers',\n",
       " '_rename',\n",
       " '_replace_columnwise',\n",
       " '_repr_data_resource_',\n",
       " '_repr_fits_horizontal_',\n",
       " '_repr_fits_vertical_',\n",
       " '_repr_html_',\n",
       " '_repr_latex_',\n",
       " '_reset_cache',\n",
       " '_reset_cacher',\n",
       " '_sanitize_column',\n",
       " '_series',\n",
       " '_set_axis',\n",
       " '_set_axis_name',\n",
       " '_set_axis_nocheck',\n",
       " '_set_is_copy',\n",
       " '_set_item',\n",
       " '_set_item_frame_value',\n",
       " '_set_item_mgr',\n",
       " '_set_value',\n",
       " '_setitem_array',\n",
       " '_setitem_frame',\n",
       " '_setitem_slice',\n",
       " '_slice',\n",
       " '_stat_axis',\n",
       " '_stat_axis_name',\n",
       " '_stat_axis_number',\n",
       " '_stat_function',\n",
       " '_stat_function_ddof',\n",
       " '_take_with_is_copy',\n",
       " '_to_dict_of_blocks',\n",
       " '_typ',\n",
       " '_update_inplace',\n",
       " '_validate_dtype',\n",
       " '_values',\n",
       " '_where',\n",
       " 'abs',\n",
       " 'add',\n",
       " 'add_prefix',\n",
       " 'add_suffix',\n",
       " 'agg',\n",
       " 'aggregate',\n",
       " 'align',\n",
       " 'all',\n",
       " 'any',\n",
       " 'append',\n",
       " 'apply',\n",
       " 'applymap',\n",
       " 'asfreq',\n",
       " 'asof',\n",
       " 'assign',\n",
       " 'astype',\n",
       " 'at',\n",
       " 'at_time',\n",
       " 'attrs',\n",
       " 'axes',\n",
       " 'backfill',\n",
       " 'between_time',\n",
       " 'bfill',\n",
       " 'bool',\n",
       " 'boxplot',\n",
       " 'clip',\n",
       " 'columns',\n",
       " 'combine',\n",
       " 'combine_first',\n",
       " 'compare',\n",
       " 'convert_dtypes',\n",
       " 'copy',\n",
       " 'corr',\n",
       " 'corrwith',\n",
       " 'count',\n",
       " 'cov',\n",
       " 'cummax',\n",
       " 'cummin',\n",
       " 'cumprod',\n",
       " 'cumsum',\n",
       " 'describe',\n",
       " 'diff',\n",
       " 'div',\n",
       " 'divide',\n",
       " 'dot',\n",
       " 'drop',\n",
       " 'drop_duplicates',\n",
       " 'droplevel',\n",
       " 'dropna',\n",
       " 'dtypes',\n",
       " 'duplicated',\n",
       " 'empty',\n",
       " 'eq',\n",
       " 'equals',\n",
       " 'eval',\n",
       " 'ewm',\n",
       " 'expanding',\n",
       " 'explode',\n",
       " 'ffill',\n",
       " 'fillna',\n",
       " 'filter',\n",
       " 'first',\n",
       " 'first_valid_index',\n",
       " 'flags',\n",
       " 'floordiv',\n",
       " 'from_dict',\n",
       " 'from_records',\n",
       " 'ge',\n",
       " 'get',\n",
       " 'groupby',\n",
       " 'gt',\n",
       " 'head',\n",
       " 'hist',\n",
       " 'iat',\n",
       " 'idxmax',\n",
       " 'idxmin',\n",
       " 'iloc',\n",
       " 'index',\n",
       " 'infer_objects',\n",
       " 'info',\n",
       " 'insert',\n",
       " 'interpolate',\n",
       " 'isin',\n",
       " 'isna',\n",
       " 'isnull',\n",
       " 'items',\n",
       " 'iteritems',\n",
       " 'iterrows',\n",
       " 'itertuples',\n",
       " 'join',\n",
       " 'keys',\n",
       " 'kurt',\n",
       " 'kurtosis',\n",
       " 'last',\n",
       " 'last_valid_index',\n",
       " 'le',\n",
       " 'loc',\n",
       " 'lookup',\n",
       " 'lt',\n",
       " 'mad',\n",
       " 'mask',\n",
       " 'max',\n",
       " 'mean',\n",
       " 'median',\n",
       " 'melt',\n",
       " 'memory_usage',\n",
       " 'merge',\n",
       " 'min',\n",
       " 'mod',\n",
       " 'mode',\n",
       " 'mul',\n",
       " 'multiply',\n",
       " 'ndim',\n",
       " 'ne',\n",
       " 'nlargest',\n",
       " 'notna',\n",
       " 'notnull',\n",
       " 'nsmallest',\n",
       " 'nunique',\n",
       " 'pad',\n",
       " 'pct_change',\n",
       " 'pipe',\n",
       " 'pivot',\n",
       " 'pivot_table',\n",
       " 'plot',\n",
       " 'pop',\n",
       " 'pow',\n",
       " 'prod',\n",
       " 'product',\n",
       " 'quantile',\n",
       " 'query',\n",
       " 'radd',\n",
       " 'rank',\n",
       " 'rdiv',\n",
       " 'reindex',\n",
       " 'reindex_like',\n",
       " 'rename',\n",
       " 'rename_axis',\n",
       " 'reorder_levels',\n",
       " 'replace',\n",
       " 'resample',\n",
       " 'reset_index',\n",
       " 'rfloordiv',\n",
       " 'rmod',\n",
       " 'rmul',\n",
       " 'rolling',\n",
       " 'round',\n",
       " 'rpow',\n",
       " 'rsub',\n",
       " 'rtruediv',\n",
       " 'sample',\n",
       " 'select_dtypes',\n",
       " 'sem',\n",
       " 'set_axis',\n",
       " 'set_flags',\n",
       " 'set_index',\n",
       " 'shape',\n",
       " 'shift',\n",
       " 'size',\n",
       " 'skew',\n",
       " 'slice_shift',\n",
       " 'sort_index',\n",
       " 'sort_values',\n",
       " 'squeeze',\n",
       " 'stack',\n",
       " 'std',\n",
       " 'style',\n",
       " 'sub',\n",
       " 'subtract',\n",
       " 'sum',\n",
       " 'swapaxes',\n",
       " 'swaplevel',\n",
       " 'tail',\n",
       " 'take',\n",
       " 'to_clipboard',\n",
       " 'to_csv',\n",
       " 'to_dict',\n",
       " 'to_excel',\n",
       " 'to_feather',\n",
       " 'to_gbq',\n",
       " 'to_hdf',\n",
       " 'to_html',\n",
       " 'to_json',\n",
       " 'to_latex',\n",
       " 'to_markdown',\n",
       " 'to_numpy',\n",
       " 'to_parquet',\n",
       " 'to_period',\n",
       " 'to_pickle',\n",
       " 'to_records',\n",
       " 'to_sql',\n",
       " 'to_stata',\n",
       " 'to_string',\n",
       " 'to_timestamp',\n",
       " 'to_xarray',\n",
       " 'to_xml',\n",
       " 'transform',\n",
       " 'transpose',\n",
       " 'truediv',\n",
       " 'truncate',\n",
       " 'tz_convert',\n",
       " 'tz_localize',\n",
       " 'unstack',\n",
       " 'update',\n",
       " 'value_counts',\n",
       " 'values',\n",
       " 'var',\n",
       " 'where',\n",
       " 'xs']"
      ]
     },
     "execution_count": 168,
     "metadata": {},
     "output_type": "execute_result"
    }
   ],
   "source": [
    "dir(df)"
   ]
  },
  {
   "cell_type": "code",
   "execution_count": 172,
   "id": "1d8353fc-c51d-4039-a725-a86210f281c3",
   "metadata": {},
   "outputs": [
    {
     "data": {
      "text/plain": [
       "0    int16\n",
       "1    int16\n",
       "2    int16\n",
       "dtype: object"
      ]
     },
     "execution_count": 172,
     "metadata": {},
     "output_type": "execute_result"
    }
   ],
   "source": [
    "df.dtypes"
   ]
  },
  {
   "cell_type": "code",
   "execution_count": 173,
   "id": "9ae19a2a-36eb-4e45-a41e-faa77a3924f7",
   "metadata": {},
   "outputs": [
    {
     "data": {
      "text/html": [
       "<div>\n",
       "<style scoped>\n",
       "    .dataframe tbody tr th:only-of-type {\n",
       "        vertical-align: middle;\n",
       "    }\n",
       "\n",
       "    .dataframe tbody tr th {\n",
       "        vertical-align: top;\n",
       "    }\n",
       "\n",
       "    .dataframe thead th {\n",
       "        text-align: right;\n",
       "    }\n",
       "</style>\n",
       "<table border=\"1\" class=\"dataframe\">\n",
       "  <thead>\n",
       "    <tr style=\"text-align: right;\">\n",
       "      <th></th>\n",
       "      <th>0</th>\n",
       "      <th>1</th>\n",
       "      <th>2</th>\n",
       "    </tr>\n",
       "  </thead>\n",
       "  <tbody>\n",
       "    <tr>\n",
       "      <th>0</th>\n",
       "      <td>1</td>\n",
       "      <td>2</td>\n",
       "      <td>5.0</td>\n",
       "    </tr>\n",
       "    <tr>\n",
       "      <th>1</th>\n",
       "      <td>3</td>\n",
       "      <td>4</td>\n",
       "      <td>5.0</td>\n",
       "    </tr>\n",
       "    <tr>\n",
       "      <th>2</th>\n",
       "      <td>2</td>\n",
       "      <td>5</td>\n",
       "      <td>7.0</td>\n",
       "    </tr>\n",
       "  </tbody>\n",
       "</table>\n",
       "</div>"
      ],
      "text/plain": [
       "   0  1    2\n",
       "0  1  2  5.0\n",
       "1  3  4  5.0\n",
       "2  2  5  7.0"
      ]
     },
     "execution_count": 173,
     "metadata": {},
     "output_type": "execute_result"
    }
   ],
   "source": [
    "df[2] = df[2].astype(\"float16\")\n",
    "df"
   ]
  },
  {
   "cell_type": "code",
   "execution_count": 174,
   "id": "80d53492-db40-43d4-92a6-6d3b950c74fb",
   "metadata": {},
   "outputs": [
    {
     "data": {
      "text/plain": [
       "0      int16\n",
       "1      int16\n",
       "2    float16\n",
       "dtype: object"
      ]
     },
     "execution_count": 174,
     "metadata": {},
     "output_type": "execute_result"
    }
   ],
   "source": [
    "df.dtypes"
   ]
  },
  {
   "cell_type": "markdown",
   "id": "7a43a1b0-0ff0-43c2-92e5-37540bfb1ac4",
   "metadata": {},
   "source": [
    "# Exercitiu din programa"
   ]
  },
  {
   "cell_type": "code",
   "execution_count": 180,
   "id": "0e313a96-8e64-4a0b-841f-afb3cc215efe",
   "metadata": {},
   "outputs": [
    {
     "data": {
      "text/plain": [
       "array([0, 1, 2, 3, 4, 5, 6, 7, 8, 9])"
      ]
     },
     "execution_count": 180,
     "metadata": {},
     "output_type": "execute_result"
    }
   ],
   "source": [
    "matrice = np.arange(10)\n",
    "matrice"
   ]
  },
  {
   "cell_type": "code",
   "execution_count": 181,
   "id": "2830da30-26e4-436a-b118-b63ef0dc5117",
   "metadata": {},
   "outputs": [
    {
     "data": {
      "text/plain": [
       "array([9, 8, 7, 6, 5, 4, 3, 2, 1, 0])"
      ]
     },
     "execution_count": 181,
     "metadata": {},
     "output_type": "execute_result"
    }
   ],
   "source": [
    "matrice[::-1]"
   ]
  },
  {
   "cell_type": "code",
   "execution_count": 182,
   "id": "a22bb03d-6253-4911-9f53-2a59098e9cc7",
   "metadata": {},
   "outputs": [],
   "source": [
    "matrice2 = np.array(list(reversed(matrice)))"
   ]
  },
  {
   "cell_type": "code",
   "execution_count": 183,
   "id": "55b06e70-d67c-4744-b5c3-a4b106e366d3",
   "metadata": {},
   "outputs": [
    {
     "data": {
      "text/plain": [
       "array([9, 8, 7, 6, 5, 4, 3, 2, 1, 0])"
      ]
     },
     "execution_count": 183,
     "metadata": {},
     "output_type": "execute_result"
    }
   ],
   "source": [
    "matrice2"
   ]
  },
  {
   "cell_type": "code",
   "execution_count": null,
   "id": "c7732f56-6b59-4f72-bfbe-cde5520c6e0e",
   "metadata": {},
   "outputs": [],
   "source": []
  }
 ],
 "metadata": {
  "kernelspec": {
   "display_name": "py310_sda",
   "language": "python",
   "name": "py310_sda"
  },
  "language_info": {
   "codemirror_mode": {
    "name": "ipython",
    "version": 3
   },
   "file_extension": ".py",
   "mimetype": "text/x-python",
   "name": "python",
   "nbconvert_exporter": "python",
   "pygments_lexer": "ipython3",
   "version": "3.9.13"
  }
 },
 "nbformat": 4,
 "nbformat_minor": 5
}
