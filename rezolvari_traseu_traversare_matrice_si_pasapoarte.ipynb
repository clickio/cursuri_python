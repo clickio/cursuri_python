{
 "cells": [
  {
   "cell_type": "markdown",
   "id": "4c1d8816-36c0-4b57-a68f-0bd4f1e6cd96",
   "metadata": {
    "tags": []
   },
   "source": [
    "# Problema cu traversarea matricei"
   ]
  },
  {
   "cell_type": "code",
   "execution_count": 15,
   "id": "42c8e284-7d32-4222-bec3-eea023210d67",
   "metadata": {},
   "outputs": [],
   "source": [
    "matrix_list = []\n",
    "with open(\"sleigh_trajectory_input.txt\") as file:\n",
    "    for line in file.readlines():\n",
    "        lista_noua = []\n",
    "        for caracter in line:\n",
    "            if caracter == '#':\n",
    "                lista_noua.append(1)\n",
    "            #elif caracter == '.':\n",
    "            else:\n",
    "                lista_noua.append(0)\n",
    "        matrix_list.append(lista_noua*100)\n",
    "                \n",
    "#matrix_list"
   ]
  },
  {
   "cell_type": "code",
   "execution_count": 16,
   "id": "5500c99e-4db5-447d-81f4-2eaf3e9eb2a7",
   "metadata": {},
   "outputs": [
    {
     "data": {
      "text/plain": [
       "0"
      ]
     },
     "execution_count": 16,
     "metadata": {},
     "output_type": "execute_result"
    }
   ],
   "source": [
    "punct_de_plecare = matrix_list[0][0]\n",
    "punct_de_plecare"
   ]
  },
  {
   "cell_type": "code",
   "execution_count": 34,
   "id": "04b41bfa-cae5-41cf-8dd0-2d7446b33fe0",
   "metadata": {},
   "outputs": [
    {
     "data": {
      "text/plain": [
       "79"
      ]
     },
     "execution_count": 34,
     "metadata": {},
     "output_type": "execute_result"
    }
   ],
   "source": [
    "orizontal = 0\n",
    "vertical = 0\n",
    "calea_de_traversare= []\n",
    "for lista_individuala in matrix_list[::1]: \n",
    "    if orizontal < len(lista_individuala):\n",
    "        calea_de_traversare.append(lista_individuala[orizontal])\n",
    "    else:\n",
    "        calea_de_traversare.append(None)\n",
    "    orizontal += 1  \n",
    "    \n",
    "sum(calea_de_traversare)"
   ]
  },
  {
   "cell_type": "code",
   "execution_count": null,
   "id": "1ee31571-4d4a-4a55-824c-a2b95de4200a",
   "metadata": {},
   "outputs": [],
   "source": [
    "\"\"\"\n",
    "Right 1, down 1.\n",
    "Right 3, down 1. (This is the slope you already checked.)\n",
    "Right 5, down 1.\n",
    "Right 7, down 1.\n",
    "Right 1, down 2.\n",
    "\"\"\""
   ]
  },
  {
   "cell_type": "code",
   "execution_count": 54,
   "id": "f8ce2ff9-c741-4bf8-b9bf-d14f20540f5a",
   "metadata": {},
   "outputs": [],
   "source": [
    "def functie_traversare(matrix_list, pas_orizontal, pas_vertical=1):\n",
    "    orizontal = 0\n",
    "    vertical = 0\n",
    "    calea_de_traversare= []\n",
    "    for lista_individuala in matrix_list[::pas_vertical]: \n",
    "        if orizontal < len(lista_individuala):\n",
    "            calea_de_traversare.append(lista_individuala[orizontal])\n",
    "        else:\n",
    "            calea_de_traversare.append(None)\n",
    "        orizontal += pas_orizontal  \n",
    "    return sum(calea_de_traversare), len(calea_de_traversare)"
   ]
  },
  {
   "cell_type": "code",
   "execution_count": 55,
   "id": "850cf7c3-ed5e-4891-8958-ff56af824502",
   "metadata": {},
   "outputs": [
    {
     "data": {
      "text/plain": [
       "(79, 323)"
      ]
     },
     "execution_count": 55,
     "metadata": {},
     "output_type": "execute_result"
    }
   ],
   "source": [
    "functie_traversare(matrix_list,1,1)"
   ]
  },
  {
   "cell_type": "code",
   "execution_count": 48,
   "id": "a4c50ead-1b37-40c5-90c8-f4ff2c703c6d",
   "metadata": {},
   "outputs": [
    {
     "data": {
      "text/plain": [
       "77"
      ]
     },
     "execution_count": 48,
     "metadata": {},
     "output_type": "execute_result"
    }
   ],
   "source": [
    "functie_traversare(matrix_list,pas_orizontal=3,pas_vertical=1)"
   ]
  },
  {
   "cell_type": "code",
   "execution_count": 49,
   "id": "a782387c-d7a2-48b2-8583-dd886328f968",
   "metadata": {},
   "outputs": [
    {
     "data": {
      "text/plain": [
       "91"
      ]
     },
     "execution_count": 49,
     "metadata": {},
     "output_type": "execute_result"
    }
   ],
   "source": [
    "functie_traversare(matrix_list,pas_orizontal=5,pas_vertical=1)"
   ]
  },
  {
   "cell_type": "code",
   "execution_count": 50,
   "id": "77f75299-f449-48d5-b01e-834e52ef447e",
   "metadata": {},
   "outputs": [
    {
     "data": {
      "text/plain": [
       "75"
      ]
     },
     "execution_count": 50,
     "metadata": {},
     "output_type": "execute_result"
    }
   ],
   "source": [
    "functie_traversare(matrix_list,pas_orizontal=7,pas_vertical=1)"
   ]
  },
  {
   "cell_type": "code",
   "execution_count": 51,
   "id": "a4f46f6a-8db5-4b01-a03c-a2140f555b6c",
   "metadata": {},
   "outputs": [
    {
     "data": {
      "text/plain": [
       "31"
      ]
     },
     "execution_count": 51,
     "metadata": {},
     "output_type": "execute_result"
    }
   ],
   "source": [
    "functie_traversare(matrix_list,pas_orizontal=1,pas_vertical=2)"
   ]
  },
  {
   "cell_type": "code",
   "execution_count": 58,
   "id": "e393e3b6-7bfc-4f52-852e-fdd7b405c48b",
   "metadata": {},
   "outputs": [
    {
     "data": {
      "text/plain": [
       "3200"
      ]
     },
     "execution_count": 58,
     "metadata": {},
     "output_type": "execute_result"
    }
   ],
   "source": [
    "len(matrix_list[0])"
   ]
  },
  {
   "cell_type": "code",
   "execution_count": 59,
   "id": "b9c8b740-b17b-4d45-a245-a4f38ccaf0f7",
   "metadata": {},
   "outputs": [
    {
     "data": {
      "text/plain": [
       "323"
      ]
     },
     "execution_count": 59,
     "metadata": {},
     "output_type": "execute_result"
    }
   ],
   "source": [
    "len(matrix_list)"
   ]
  },
  {
   "cell_type": "code",
   "execution_count": 4,
   "id": "944baa17-0408-48e5-9765-0d96cc887ad2",
   "metadata": {},
   "outputs": [
    {
     "data": {
      "text/plain": [
       "('abcdefghijklm',\n",
       " ['a', 'b', 'c', 'd', 'e', 'f', 'g', 'h', 'i', 'j', 'k', 'l', 'm'])"
      ]
     },
     "execution_count": 4,
     "metadata": {},
     "output_type": "execute_result"
    }
   ],
   "source": [
    "sirul = \"abcdefghijklm\"\n",
    "lista = list(sirul)\n",
    "sirul, lista"
   ]
  },
  {
   "cell_type": "code",
   "execution_count": 5,
   "id": "7d54c1e4-5700-4b1f-aa04-c82036050470",
   "metadata": {},
   "outputs": [
    {
     "data": {
      "text/plain": [
       "('a', 'a')"
      ]
     },
     "execution_count": 5,
     "metadata": {},
     "output_type": "execute_result"
    }
   ],
   "source": [
    "sirul[0], lista[0]"
   ]
  },
  {
   "cell_type": "code",
   "execution_count": 6,
   "id": "da2b4ab2-802a-4779-af08-1fdd6efa4b36",
   "metadata": {},
   "outputs": [
    {
     "data": {
      "text/plain": [
       "('m', 'm')"
      ]
     },
     "execution_count": 6,
     "metadata": {},
     "output_type": "execute_result"
    }
   ],
   "source": [
    "sirul[-1], lista[-1]"
   ]
  },
  {
   "cell_type": "markdown",
   "id": "05ed99f7-c3dc-4f68-853b-0e0f00db9649",
   "metadata": {
    "tags": []
   },
   "source": [
    "# Problema cu pasapoartele"
   ]
  },
  {
   "cell_type": "code",
   "execution_count": null,
   "id": "31a1e0e0-dc89-42fb-9353-a79e547217dc",
   "metadata": {},
   "outputs": [],
   "source": []
  },
  {
   "cell_type": "code",
   "execution_count": 1,
   "id": "ebad9a76-6be4-4b7a-8b70-07e599f10618",
   "metadata": {},
   "outputs": [],
   "source": [
    "from collections import defaultdict\n",
    "dict_of_values = defaultdict(list) \n",
    "dict_key = 0\n",
    "with open(\"valid_passports_input.txt\") as file:\n",
    "     for line in file.readlines():\n",
    "        if line != '\\n': \n",
    "            dict_of_values[dict_key].append(line.split())\n",
    "        else:\n",
    "            dict_key += 1\n",
    "            dict_of_values[dict_key].append(line.split())"
   ]
  },
  {
   "cell_type": "code",
   "execution_count": 62,
   "id": "ab938baf-b924-4e3d-93e7-484f97215984",
   "metadata": {},
   "outputs": [],
   "source": [
    "#dict_of_values"
   ]
  },
  {
   "cell_type": "code",
   "execution_count": 2,
   "id": "dc4bc26c-cfa1-4365-a0f9-736abadf2eba",
   "metadata": {
    "tags": []
   },
   "outputs": [
    {
     "data": {
      "text/plain": [
       "[['byr:1983', 'iyr:2017'],\n",
       " ['pid:796082981', 'cid:129', 'eyr:2030'],\n",
       " ['ecl:oth', 'hgt:182cm']]"
      ]
     },
     "execution_count": 2,
     "metadata": {},
     "output_type": "execute_result"
    }
   ],
   "source": [
    "dict_of_values[0]"
   ]
  },
  {
   "cell_type": "code",
   "execution_count": null,
   "id": "80d7bef5-825e-4fec-bf52-7c0abd01ee47",
   "metadata": {},
   "outputs": [],
   "source": []
  },
  {
   "cell_type": "code",
   "execution_count": 64,
   "id": "a0292141-57b0-430d-94a4-4b76808517cd",
   "metadata": {},
   "outputs": [],
   "source": [
    "clean_dict = defaultdict(dict)\n",
    "dict_key = 0\n",
    "for value in dict_of_values.values():\n",
    "    for single_list in value:\n",
    "        for single_string in single_list:\n",
    "            k, v = single_string.split(':')\n",
    "            clean_dict[dict_key][k] = v\n",
    "    dict_key += 1"
   ]
  },
  {
   "cell_type": "code",
   "execution_count": 65,
   "id": "39fbb79e-f563-4a10-a0e9-987bcc28bb84",
   "metadata": {},
   "outputs": [
    {
     "data": {
      "text/plain": [
       "{'byr': '1983',\n",
       " 'iyr': '2017',\n",
       " 'pid': '796082981',\n",
       " 'cid': '129',\n",
       " 'eyr': '2030',\n",
       " 'ecl': 'oth',\n",
       " 'hgt': '182cm'}"
      ]
     },
     "execution_count": 65,
     "metadata": {},
     "output_type": "execute_result"
    }
   ],
   "source": [
    "clean_dict[0]"
   ]
  },
  {
   "cell_type": "code",
   "execution_count": 66,
   "id": "f12d18ec-b4c0-42d4-8fe9-8e81fe5aa323",
   "metadata": {},
   "outputs": [
    {
     "data": {
      "text/plain": [
       "'796082981'"
      ]
     },
     "execution_count": 66,
     "metadata": {},
     "output_type": "execute_result"
    }
   ],
   "source": [
    "clean_dict[0]['pid']"
   ]
  },
  {
   "cell_type": "code",
   "execution_count": 67,
   "id": "823d13c4-1445-4c71-9e75-99d66322a4c5",
   "metadata": {},
   "outputs": [
    {
     "data": {
      "text/plain": [
       "296"
      ]
     },
     "execution_count": 67,
     "metadata": {},
     "output_type": "execute_result"
    }
   ],
   "source": [
    "len(clean_dict)"
   ]
  }
 ],
 "metadata": {
  "kernelspec": {
   "display_name": "py310_sda",
   "language": "python",
   "name": "py310_sda"
  },
  "language_info": {
   "codemirror_mode": {
    "name": "ipython",
    "version": 3
   },
   "file_extension": ".py",
   "mimetype": "text/x-python",
   "name": "python",
   "nbconvert_exporter": "python",
   "pygments_lexer": "ipython3",
   "version": "3.9.13"
  }
 },
 "nbformat": 4,
 "nbformat_minor": 5
}
